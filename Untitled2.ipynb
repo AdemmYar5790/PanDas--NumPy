{
 "cells": [
  {
   "cell_type": "code",
   "execution_count": 1,
   "id": "d4e76ae4",
   "metadata": {},
   "outputs": [],
   "source": [
    "import matplotlib.pyplot as plt\n",
    "import numpy as np"
   ]
  },
  {
   "cell_type": "code",
   "execution_count": 2,
   "id": "8db5940c",
   "metadata": {},
   "outputs": [
    {
     "name": "stdout",
     "output_type": "stream",
     "text": [
      "[ 0.   0.2  0.4  0.6  0.8  1.   1.2  1.4  1.6  1.8  2.   2.2  2.4  2.6\n",
      "  2.8  3.   3.2  3.4  3.6  3.8  4.   4.2  4.4  4.6  4.8  5.   5.2  5.4\n",
      "  5.6  5.8  6.   6.2  6.4  6.6  6.8  7.   7.2  7.4  7.6  7.8  8.   8.2\n",
      "  8.4  8.6  8.8  9.   9.2  9.4  9.6  9.8 10. ]\n"
     ]
    }
   ],
   "source": [
    "t = np.linspace(0, 10, 51)\n",
    "print(t)"
   ]
  },
  {
   "cell_type": "code",
   "execution_count": 3,
   "id": "7a88f86d",
   "metadata": {},
   "outputs": [
    {
     "name": "stdout",
     "output_type": "stream",
     "text": [
      "[ 1.          0.98006658  0.92106099  0.82533561  0.69670671  0.54030231\n",
      "  0.36235775  0.16996714 -0.02919952 -0.22720209 -0.41614684 -0.58850112\n",
      " -0.73739372 -0.85688875 -0.94222234 -0.9899925  -0.99829478 -0.96679819\n",
      " -0.89675842 -0.79096771 -0.65364362 -0.49026082 -0.30733287 -0.11215253\n",
      "  0.08749898  0.28366219  0.46851667  0.63469288  0.77556588  0.88551952\n",
      "  0.96017029  0.9965421   0.99318492  0.95023259  0.86939749  0.75390225\n",
      "  0.60835131  0.43854733  0.25125984  0.05395542 -0.14550003 -0.33915486\n",
      " -0.51928865 -0.67872005 -0.81109301 -0.91113026 -0.97484362 -0.99969304\n",
      " -0.98468786 -0.93042627 -0.83907153]\n"
     ]
    }
   ],
   "source": [
    "f = np.cos(t)\n",
    "print(f)"
   ]
  },
  {
   "cell_type": "code",
   "execution_count": null,
   "id": "f2b012a9",
   "metadata": {},
   "outputs": [],
   "source": [
    "plt.plot(t, f, color = 'green')\n",
    "plt.title('График f(t)')\n",
    "plt.xlabel('Значения t')\n",
    "plt.ylabel"
   ]
  }
 ],
 "metadata": {
  "kernelspec": {
   "display_name": "Python 3 (ipykernel)",
   "language": "python",
   "name": "python3"
  },
  "language_info": {
   "codemirror_mode": {
    "name": "ipython",
    "version": 3
   },
   "file_extension": ".py",
   "mimetype": "text/x-python",
   "name": "python",
   "nbconvert_exporter": "python",
   "pygments_lexer": "ipython3",
   "version": "3.9.12"
  }
 },
 "nbformat": 4,
 "nbformat_minor": 5
}
